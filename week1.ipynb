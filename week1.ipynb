{
 "cells": [
  {
   "cell_type": "markdown",
   "id": "9063a585",
   "metadata": {},
   "source": [
    "# Week 1: Introduction to Data Science and Python Basics"
   ]
  },
  {
   "cell_type": "markdown",
   "id": "bb49cbab",
   "metadata": {},
   "source": [
    "## Overview of Data Science, Roles, and Common Tools"
   ]
  },
  {
   "cell_type": "markdown",
   "id": "6aa101e1",
   "metadata": {},
   "source": [
    "\n",
    "### What is Data Science?\n",
    "\n",
    "Data Science is the field of analyzing data to gain insights and make data-driven decisions. It combines aspects of statistics, mathematics, and computer science to work with large amounts of data.\n",
    "\n",
    "### Common Tools in Data Science\n",
    "\n",
    "- **Programming Languages**: Python, R, SQL\n",
    "- **Data Manipulation**: Pandas, NumPy\n",
    "- **Visualization**: Matplotlib, Seaborn, Power BI\n",
    "- **Machine Learning**: scikit-learn, TensorFlow, PyTorch\n",
    "- **Data Storage and Databases**: SQL, NoSQL (MongoDB)\n"
   ]
  },
  {
   "cell_type": "markdown",
   "id": "b432240b",
   "metadata": {},
   "source": [
    "## Python Basics"
   ]
  },
  {
   "cell_type": "markdown",
   "id": "5d0911db",
   "metadata": {},
   "source": [
    "### Loops in Python"
   ]
  },
  {
   "cell_type": "code",
   "execution_count": null,
   "id": "591bc856",
   "metadata": {},
   "outputs": [],
   "source": [
    "# For Loop\n",
    "for i in range(5):\n",
    "    print(\"For Loop Iteration:\", i)\n",
    "\n",
    "# While Loop\n",
    "count = 0\n",
    "while count < 5:\n",
    "    print(\"While Loop Iteration:\", count)\n",
    "    count += 1"
   ]
  },
  {
   "cell_type": "markdown",
   "id": "5c721ce9",
   "metadata": {},
   "source": [
    "### Conditionals in Python"
   ]
  },
  {
   "cell_type": "code",
   "execution_count": null,
   "id": "883fa20c",
   "metadata": {},
   "outputs": [],
   "source": [
    "# If-Else Statements\n",
    "x = 10\n",
    "if x > 5:\n",
    "    print(\"x is greater than 5\")\n",
    "elif x == 5:\n",
    "    print(\"x is equal to 5\")\n",
    "else:\n",
    "    print(\"x is less than 5\")"
   ]
  },
  {
   "cell_type": "markdown",
   "id": "05732d25",
   "metadata": {},
   "source": [
    "### Functions in Python"
   ]
  },
  {
   "cell_type": "code",
   "execution_count": null,
   "id": "0e9907f3",
   "metadata": {},
   "outputs": [],
   "source": [
    "# Function to add two numbers\n",
    "def add_numbers(a, b):\n",
    "    return a + b\n",
    "\n",
    "# Function call\n",
    "result = add_numbers(5, 10)\n",
    "print(\"Result of add_numbers:\", result)"
   ]
  },
  {
   "cell_type": "markdown",
   "id": "1d4fa119",
   "metadata": {},
   "source": [
    "## Project: Basic Data Manipulation"
   ]
  },
  {
   "cell_type": "markdown",
   "id": "8097fb8b",
   "metadata": {},
   "source": [
    "\n",
    "In this mini-project, we will perform some basic data manipulations using Python lists, dictionaries, and functions.\n",
    "\n",
    "### Task 1: Working with Lists\n",
    "- Create a list of numbers and calculate the sum and average.\n"
   ]
  },
  {
   "cell_type": "code",
   "execution_count": null,
   "id": "f8faa12e",
   "metadata": {},
   "outputs": [],
   "source": [
    "# List of numbers\n",
    "numbers = [10, 20, 30, 40, 50]\n",
    "\n",
    "# Calculate sum\n",
    "total_sum = sum(numbers)\n",
    "print(\"Sum of numbers:\", total_sum)\n",
    "\n",
    "# Calculate average\n",
    "average = total_sum / len(numbers)\n",
    "print(\"Average of numbers:\", average)"
   ]
  },
  {
   "cell_type": "markdown",
   "id": "ffe108e8",
   "metadata": {},
   "source": [
    "### Task 2: Working with Dictionaries"
   ]
  },
  {
   "cell_type": "code",
   "execution_count": null,
   "id": "d8edd772",
   "metadata": {},
   "outputs": [],
   "source": [
    "# Dictionary of students and scores\n",
    "students_scores = {\n",
    "    \"Alice\": 85,\n",
    "    \"Bob\": 90,\n",
    "    \"Charlie\": 78,\n",
    "    \"Diana\": 92,\n",
    "}\n",
    "\n",
    "# Function to find the top student\n",
    "def find_top_student(scores):\n",
    "    top_student = max(scores, key=scores.get)\n",
    "    return top_student, scores[top_student]\n",
    "\n",
    "# Find top student\n",
    "top_student, top_score = find_top_student(students_scores)\n",
    "print(\"Top student:\", top_student)\n",
    "print(\"Top score:\", top_score)"
   ]
  },
  {
   "cell_type": "markdown",
   "id": "b012ee79",
   "metadata": {},
   "source": [
    "### Task 3: Combining Functions"
   ]
  },
  {
   "cell_type": "code",
   "execution_count": null,
   "id": "0a30fc9b",
   "metadata": {},
   "outputs": [],
   "source": [
    "# Function to add two lists element-wise\n",
    "def add_lists(list1, list2):\n",
    "    return [x + y for x, y in zip(list1, list2)]\n",
    "\n",
    "# Lists to add\n",
    "list1 = [1, 2, 3]\n",
    "list2 = [4, 5, 6]\n",
    "\n",
    "# Function call\n",
    "result = add_lists(list1, list2)\n",
    "print(\"Result of adding lists:\", result)"
   ]
  },
  {
   "cell_type": "markdown",
   "id": "a2b189f8",
   "metadata": {},
   "source": [
    "\n",
    "Next week, we will dive deeper into **data analysis and visualization**!\n"
   ]
  }
 ],
 "metadata": {
  "kernelspec": {
   "display_name": "Python 3",
   "language": "python",
   "name": "python3"
  },
  "language_info": {
   "codemirror_mode": {
    "name": "ipython",
    "version": 3
   },
   "file_extension": ".py",
   "mimetype": "text/x-python",
   "name": "python",
   "nbconvert_exporter": "python",
   "pygments_lexer": "ipython3",
   "version": "3.12.0"
  }
 },
 "nbformat": 4,
 "nbformat_minor": 5
}
