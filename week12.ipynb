{
  "cells": [
    {
      "cell_type": "markdown",
      "id": "c9f0e550",
      "metadata": {
        "id": "c9f0e550"
      },
      "source": [
        "# Week 12: Statistics in Python\n",
        "This notebook contains practical examples of statistics in Python as part of the 100 Days of Data Science Challenge."
      ]
    },
    {
      "cell_type": "markdown",
      "id": "2475b266",
      "metadata": {
        "id": "2475b266"
      },
      "source": [
        "## Day 1: Descriptive Statistics\n",
        "**Key Concepts**: Mean, Median, Mode, Standard Deviation, Variance."
      ]
    },
    {
      "cell_type": "code",
      "execution_count": 2,
      "id": "65807cf2",
      "metadata": {
        "colab": {
          "base_uri": "https://localhost:8080/"
        },
        "id": "65807cf2",
        "outputId": "f03f3754-84b1-45f3-a534-ed66dee4adf5"
      },
      "outputs": [
        {
          "output_type": "stream",
          "name": "stdout",
          "text": [
            "Mean: 61.0\n",
            "Median: 56.0\n",
            "Mode: 45 (Count: 3)\n",
            "Variance: 219.55555555555554\n",
            "Standard Deviation: 14.817407180595245\n",
            "Range: 44\n"
          ]
        }
      ],
      "source": [
        "import numpy as np\n",
        "from scipy import stats\n",
        "\n",
        "# Sample data\n",
        "data = [56, 67, 45, 78, 89, 45, 68, 56, 45]\n",
        "\n",
        "# Central tendency\n",
        "mean = np.mean(data)\n",
        "median = np.median(data)\n",
        "\n",
        "# Updated way to extract mode\n",
        "mode_result = stats.mode(data, keepdims=True)  # Use keepdims=True for compatibility with newer SciPy versions\n",
        "mode = mode_result.mode[0]\n",
        "count = mode_result.count[0]\n",
        "\n",
        "# Dispersion\n",
        "variance = np.var(data)\n",
        "std_dev = np.std(data)\n",
        "range_data = np.ptp(data)\n",
        "\n",
        "print(f\"Mean: {mean}\")\n",
        "print(f\"Median: {median}\")\n",
        "print(f\"Mode: {mode} (Count: {count})\")\n",
        "print(f\"Variance: {variance}\")\n",
        "print(f\"Standard Deviation: {std_dev}\")\n",
        "print(f\"Range: {range_data}\")\n"
      ]
    },
    {
      "cell_type": "markdown",
      "id": "171883b9",
      "metadata": {
        "id": "171883b9"
      },
      "source": [
        "## Day 2: Visualizing Distributions\n",
        "**Key Concepts**: Detecting skewness, outliers."
      ]
    },
    {
      "cell_type": "code",
      "execution_count": 3,
      "id": "897d0b4e",
      "metadata": {
        "colab": {
          "base_uri": "https://localhost:8080/",
          "height": 868
        },
        "id": "897d0b4e",
        "outputId": "ad1982c5-a2b0-4a04-9b99-b97c494d5642"
      },
      "outputs": [
        {
          "output_type": "display_data",
          "data": {
            "text/plain": [
              "<Figure size 640x480 with 1 Axes>"
            ],
            "image/png": "[encoded data removed]"
          },
          "metadata": {}
        },
        {
          "output_type": "display_data",
          "data": {
            "text/plain": [
              "<Figure size 640x480 with 1 Axes>"
            ],
            "image/png": "[encoded data removed]"
          },
          "metadata": {}
        }
      ],
      "source": [
        "\n",
        "import matplotlib.pyplot as plt\n",
        "import seaborn as sns\n",
        "\n",
        "# Plotting the distribution\n",
        "sns.histplot(data, kde=True, color='blue')\n",
        "plt.title(\"Histogram with KDE\")\n",
        "plt.show()\n",
        "\n",
        "# Boxplot to detect outliers\n",
        "sns.boxplot(data=data, color='orange')\n",
        "plt.title(\"Boxplot\")\n",
        "plt.show()\n"
      ]
    },
    {
      "cell_type": "markdown",
      "id": "377906ed",
      "metadata": {
        "id": "377906ed"
      },
      "source": [
        "## Day 3: Correlation and Covariance\n",
        "**Key Concepts**: Pearson Correlation, Spearman Correlation, Covariance."
      ]
    },
    {
      "cell_type": "code",
      "execution_count": 4,
      "id": "4572e0fa",
      "metadata": {
        "colab": {
          "base_uri": "https://localhost:8080/"
        },
        "id": "4572e0fa",
        "outputId": "5ad72e9e-d771-45b3-89f3-bff228036c66"
      },
      "outputs": [
        {
          "output_type": "stream",
          "name": "stdout",
          "text": [
            "Correlation Matrix:\n",
            "              Age    Income\n",
            "Age     1.000000  0.961274\n",
            "Income  0.961274  1.000000\n",
            "\n",
            "Spearman Correlation Matrix:\n",
            "         Age  Income\n",
            "Age     1.0     0.9\n",
            "Income  0.9     1.0\n",
            "\n",
            "Covariance Matrix:\n",
            "              Age       Income\n",
            "Age         80.8     101800.0\n",
            "Income  101800.0  138800000.0\n"
          ]
        }
      ],
      "source": [
        "\n",
        "# Sample dataset\n",
        "df = pd.DataFrame({\n",
        "    'Age': [23, 45, 31, 35, 43],\n",
        "    'Income': [20000, 45000, 32000, 40000, 50000]\n",
        "})\n",
        "\n",
        "# Correlation\n",
        "correlation = df.corr()  # Pearson by default\n",
        "spearman_corr = df.corr(method='spearman')\n",
        "\n",
        "# Covariance\n",
        "covariance = df.cov()\n",
        "\n",
        "print(\"Correlation Matrix:\\n\", correlation)\n",
        "print(\"\\nSpearman Correlation Matrix:\\n\", spearman_corr)\n",
        "print(\"\\nCovariance Matrix:\\n\", covariance)\n"
      ]
    },
    {
      "cell_type": "markdown",
      "id": "2d7fa350",
      "metadata": {
        "id": "2d7fa350"
      },
      "source": [
        "## Day 4: Hypothesis Testing\n",
        "**Key Concepts**: Null hypothesis, p-value, significance."
      ]
    },
    {
      "cell_type": "code",
      "execution_count": 5,
      "id": "288d40f7",
      "metadata": {
        "colab": {
          "base_uri": "https://localhost:8080/"
        },
        "id": "288d40f7",
        "outputId": "b3ff664d-97da-45cb-adc1-bca4b36bccf6"
      },
      "outputs": [
        {
          "output_type": "stream",
          "name": "stdout",
          "text": [
            "T-Statistic: -0.036028726346913696, P-Value: 0.9721422336702045\n",
            "Chi-Square: 0.7032967032967032, P-Value: 0.4016781664697727\n"
          ]
        }
      ],
      "source": [
        "\n",
        "from scipy.stats import ttest_ind, chi2_contingency\n",
        "\n",
        "# T-test (e.g., compare means of two groups)\n",
        "group1 = [56, 67, 45, 78, 89]\n",
        "group2 = [68, 45, 78, 56, 90]\n",
        "\n",
        "t_stat, p_value = ttest_ind(group1, group2)\n",
        "print(f\"T-Statistic: {t_stat}, P-Value: {p_value}\")\n",
        "\n",
        "# Chi-Square Test\n",
        "observed = np.array([[20, 15], [30, 35]])\n",
        "chi2, p, dof, expected = chi2_contingency(observed)\n",
        "print(f\"Chi-Square: {chi2}, P-Value: {p}\")\n"
      ]
    },
    {
      "cell_type": "markdown",
      "id": "d2634a06",
      "metadata": {
        "id": "d2634a06"
      },
      "source": [
        "## Day 5: Confidence Intervals\n",
        "**Key Concepts**: 95% confidence interval, margin of error."
      ]
    },
    {
      "cell_type": "code",
      "execution_count": 6,
      "id": "da07510e",
      "metadata": {
        "colab": {
          "base_uri": "https://localhost:8080/"
        },
        "id": "da07510e",
        "outputId": "79bd6a4e-82c5-4874-8e56-2d278c87881f"
      },
      "outputs": [
        {
          "output_type": "stream",
          "name": "stdout",
          "text": [
            "Mean: 66.1\n",
            "95% Confidence Interval: (54.57285957772959, 77.6271404222704)\n"
          ]
        }
      ],
      "source": [
        "\n",
        "import scipy.stats as st\n",
        "\n",
        "# Sample data\n",
        "sample = [56, 67, 45, 78, 89, 68, 90, 45, 56, 67]\n",
        "confidence_level = 0.95\n",
        "\n",
        "# Confidence interval\n",
        "mean = np.mean(sample)\n",
        "sem = st.sem(sample)  # Standard error of the mean\n",
        "ci = st.t.interval(confidence_level, len(sample)-1, loc=mean, scale=sem)\n",
        "\n",
        "print(f\"Mean: {mean}\")\n",
        "print(f\"95% Confidence Interval: {ci}\")\n"
      ]
    },
    {
      "cell_type": "markdown",
      "id": "2f7d3d50",
      "metadata": {
        "id": "2f7d3d50"
      },
      "source": [
        "## Day 6: ANOVA (Analysis of Variance)\n",
        "**Key Concepts**: F-statistic, one-way ANOVA."
      ]
    },
    {
      "cell_type": "code",
      "execution_count": 7,
      "id": "3f2f64c3",
      "metadata": {
        "colab": {
          "base_uri": "https://localhost:8080/"
        },
        "id": "3f2f64c3",
        "outputId": "ab77c283-a029-4e21-b49d-590d42150c8d"
      },
      "outputs": [
        {
          "output_type": "stream",
          "name": "stdout",
          "text": [
            "F-Statistic: 0.0008707009142359598, P-Value: 0.9991297411513989\n"
          ]
        }
      ],
      "source": [
        "\n",
        "from scipy.stats import f_oneway\n",
        "\n",
        "# Three groups\n",
        "group1 = [56, 67, 45, 78, 89]\n",
        "group2 = [68, 45, 78, 56, 90]\n",
        "group3 = [45, 56, 78, 89, 67]\n",
        "\n",
        "f_stat, p_value = f_oneway(group1, group2, group3)\n",
        "print(f\"F-Statistic: {f_stat}, P-Value: {p_value}\")\n"
      ]
    },
    {
      "cell_type": "markdown",
      "id": "36e643ea",
      "metadata": {
        "id": "36e643ea"
      },
      "source": [
        "## Day 7: Regression Analysis\n",
        "**Key Concepts**: R-squared, residuals, regression coefficients."
      ]
    },
    {
      "cell_type": "code",
      "execution_count": 8,
      "id": "0ac026a0",
      "metadata": {
        "colab": {
          "base_uri": "https://localhost:8080/"
        },
        "id": "0ac026a0",
        "outputId": "4279434f-be56-4c17-f1a2-d3e17e0fdfaf"
      },
      "outputs": [
        {
          "output_type": "stream",
          "name": "stdout",
          "text": [
            "Slope: 9.999999999999998\n",
            "Intercept: 7.105427357601002e-15\n",
            "R-squared: 1.0\n"
          ]
        }
      ],
      "source": [
        "\n",
        "from sklearn.linear_model import LinearRegression\n",
        "\n",
        "# Data\n",
        "X = np.array([1, 2, 3, 4, 5]).reshape(-1, 1)  # Independent variable\n",
        "y = np.array([10, 20, 30, 40, 50])           # Dependent variable\n",
        "\n",
        "# Linear Regression\n",
        "model = LinearRegression()\n",
        "model.fit(X, y)\n",
        "\n",
        "# Coefficients\n",
        "slope = model.coef_[0]\n",
        "intercept = model.intercept_\n",
        "r_squared = model.score(X, y)\n",
        "\n",
        "print(f\"Slope: {slope}\")\n",
        "print(f\"Intercept: {intercept}\")\n",
        "print(f\"R-squared: {r_squared}\")\n"
      ]
    }
  ],
  "metadata": {
    "colab": {
      "provenance": []
    },
    "language_info": {
      "name": "python"
    },
    "kernelspec": {
      "name": "python3",
      "display_name": "Python 3"
    }
  },
  "nbformat": 4,
  "nbformat_minor": 5
}