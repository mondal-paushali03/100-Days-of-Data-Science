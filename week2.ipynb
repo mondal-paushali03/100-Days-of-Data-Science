{
 "cells": [
  {
   "cell_type": "markdown",
   "metadata": {},
   "source": [
    "# Week 2: Data Structures & Algorithms (Python)\n",
    "## Day 8-9: Arrays, Linked Lists, Stacks, Queues"
   ]
  },
  {
   "cell_type": "markdown",
   "metadata": {},
   "source": [
    "### Arrays\n",
    "An array is a fundamental data structure that stores elements at contiguous memory locations. This allows for fast element access but limits flexibility.\n",
    "*Example: Array operations in Python using NumPy*"
   ]
  },
  {
   "cell_type": "code",
   "execution_count": 1,
   "metadata": {},
   "outputs": [
    {
     "name": "stdout",
     "output_type": "stream",
     "text": [
      "Original Array: [10 20 30 40 50]\n",
      "Modified Array: [10 20 35 40 50]\n"
     ]
    }
   ],
   "source": [
    "import numpy as np\n",
    "\n",
    "# Create a NumPy array\n",
    "arr = np.array([10, 20, 30, 40, 50])\n",
    "print(\"Original Array:\", arr)\n",
    "\n",
    "# Access elements and modify them\n",
    "arr[2] = 35\n",
    "print(\"Modified Array:\", arr)"
   ]
  },
  {
   "cell_type": "markdown",
   "metadata": {
    "vscode": {
     "languageId": "plaintext"
    }
   },
   "source": [
    "### Linked Lists\n",
    "A linked list consists of nodes where each node contains data and a reference (or link) to the next node. It is useful for dynamic memory allocation. *Example: Doubly Linked List*"
   ]
  },
  {
   "cell_type": "code",
   "execution_count": 2,
   "metadata": {},
   "outputs": [
    {
     "name": "stdout",
     "output_type": "stream",
     "text": [
      "5 <-> 15 <-> 25 <-> None\n"
     ]
    }
   ],
   "source": [
    "class Node:\n",
    "    def __init__(self, data):\n",
    "        self.data = data\n",
    "        self.next = None\n",
    "        self.prev = None\n",
    "\n",
    "class DoublyLinkedList:\n",
    "    def __init__(self):\n",
    "        self.head = None\n",
    "\n",
    "    def append(self, data):\n",
    "        new_node = Node(data)\n",
    "        if not self.head:\n",
    "            self.head = new_node\n",
    "            return\n",
    "        current = self.head\n",
    "        while current.next:\n",
    "            current = current.next\n",
    "        current.next = new_node\n",
    "        new_node.prev = current\n",
    "\n",
    "    def display_forward(self):\n",
    "        current = self.head\n",
    "        while current:\n",
    "            print(current.data, end=\" <-> \")\n",
    "            current = current.next\n",
    "        print(\"None\")\n",
    "\n",
    "# Usage\n",
    "dll = DoublyLinkedList()\n",
    "dll.append(5)\n",
    "dll.append(15)\n",
    "dll.append(25)\n",
    "dll.display_forward()"
   ]
  },
  {
   "cell_type": "markdown",
   "metadata": {},
   "source": [
    "### Stacks\n",
    "Stacks are data structures that follow a LIFO (Last-In-First-Out) order. They are useful for reversing elements and backtracking problems. *Example: Stack using a class*"
   ]
  },
  {
   "cell_type": "code",
   "execution_count": 3,
   "metadata": {},
   "outputs": [
    {
     "name": "stdout",
     "output_type": "stream",
     "text": [
      "Top element: 20\n",
      "Popped element: 20\n"
     ]
    }
   ],
   "source": [
    "class Stack:\n",
    "    def __init__(self):\n",
    "        self.items = []\n",
    "\n",
    "    def push(self, item):\n",
    "        self.items.append(item)\n",
    "\n",
    "    def pop(self):\n",
    "        return self.items.pop() if not self.is_empty() else None\n",
    "\n",
    "    def is_empty(self):\n",
    "        return len(self.items) == 0\n",
    "\n",
    "    def peek(self):\n",
    "        return self.items[-1] if not self.is_empty() else None\n",
    "\n",
    "# Usage\n",
    "stack = Stack()\n",
    "stack.push(10)\n",
    "stack.push(20)\n",
    "print(\"Top element:\", stack.peek())\n",
    "print(\"Popped element:\", stack.pop())"
   ]
  },
  {
   "cell_type": "markdown",
   "metadata": {},
   "source": [
    "### Queues\n",
    "A queue is a FIFO (First-In-First-Out) data structure. It is commonly used for task scheduling and breadth-first search. *Example: Queue implementation using list*"
   ]
  },
  {
   "cell_type": "code",
   "execution_count": 4,
   "metadata": {},
   "outputs": [
    {
     "name": "stdout",
     "output_type": "stream",
     "text": [
      "Dequeued element: 100\n",
      "Queue status: [200]\n"
     ]
    }
   ],
   "source": [
    "class Queue:\n",
    "    def __init__(self):\n",
    "        self.queue = []\n",
    "\n",
    "    def enqueue(self, item):\n",
    "        self.queue.append(item)\n",
    "\n",
    "    def dequeue(self):\n",
    "        return self.queue.pop(0) if not self.is_empty() else None\n",
    "\n",
    "    def is_empty(self):\n",
    "        return len(self.queue) == 0\n",
    "\n",
    "# Usage\n",
    "queue = Queue()\n",
    "queue.enqueue(100)\n",
    "queue.enqueue(200)\n",
    "print(\"Dequeued element:\", queue.dequeue())\n",
    "print(\"Queue status:\", queue.queue)"
   ]
  },
  {
   "cell_type": "markdown",
   "metadata": {},
   "source": [
    "## Day 10-12: Sorting Algorithms\n",
    "### Bubble Sort\n",
    "Bubble sort is a simple sorting algorithm that repeatedly steps through the list, compares adjacent elements, and swaps them if they are in the wrong order."
   ]
  },
  {
   "cell_type": "code",
   "execution_count": 5,
   "metadata": {},
   "outputs": [
    {
     "name": "stdout",
     "output_type": "stream",
     "text": [
      "Sorted array using Bubble Sort: [11, 12, 22, 25, 34, 64, 90]\n"
     ]
    }
   ],
   "source": [
    "def bubble_sort(arr):\n",
    "    n = len(arr)\n",
    "    for i in range(n):\n",
    "        for j in range(0, n-i-1):\n",
    "            if arr[j] > arr[j+1]:\n",
    "                arr[j], arr[j+1] = arr[j+1], arr[j]\n",
    "    return arr\n",
    "\n",
    "# Usage\n",
    "arr = [64, 34, 25, 12, 22, 11, 90]\n",
    "print(\"Sorted array using Bubble Sort:\", bubble_sort(arr))"
   ]
  },
  {
   "cell_type": "markdown",
   "metadata": {},
   "source": [
    "### Insertion Sort\n",
    "Insertion sort builds the sorted array one element at a time, picking elements from the unsorted section and placing them in the correct position in the sorted section. *Example: Insertion Sort implementation*"
   ]
  },
  {
   "cell_type": "code",
   "execution_count": 6,
   "metadata": {},
   "outputs": [
    {
     "name": "stdout",
     "output_type": "stream",
     "text": [
      "Sorted array using Insertion Sort: [5, 6, 11, 12, 13]\n"
     ]
    }
   ],
   "source": [
    "def insertion_sort(arr):\n",
    "    for i in range(1, len(arr)):\n",
    "        key = arr[i]\n",
    "        j = i - 1\n",
    "        while j >= 0 and key < arr[j]:\n",
    "            arr[j + 1] = arr[j]\n",
    "            j -= 1\n",
    "        arr[j + 1] = key\n",
    "    return arr\n",
    "\n",
    "# Usage\n",
    "arr = [12, 11, 13, 5, 6]\n",
    "print(\"Sorted array using Insertion Sort:\", insertion_sort(arr))"
   ]
  },
  {
   "cell_type": "markdown",
   "metadata": {},
   "source": [
    "## Day 13-14: Simple Search Algorithms\n",
    "### Linear Search\n",
    "Linear search scans the entire list sequentially to find the target element. *Example: Linear Search implementation*"
   ]
  },
  {
   "cell_type": "code",
   "execution_count": 7,
   "metadata": {},
   "outputs": [
    {
     "name": "stdout",
     "output_type": "stream",
     "text": [
      "Element 5 found at index 3\n"
     ]
    }
   ],
   "source": [
    "def linear_search(arr, target):\n",
    "    for i in range(len(arr)):\n",
    "        if arr[i] == target:\n",
    "            return i\n",
    "    return -1\n",
    "\n",
    "# Usage\n",
    "arr = [3, 8, 12, 5, 10]\n",
    "target = 5\n",
    "index = linear_search(arr, target)\n",
    "print(f\"Element {target} found at index {index}\" if index != -1 else \"Element not found\")"
   ]
  }
 ],
 "metadata": {
  "kernelspec": {
   "display_name": "Python 3",
   "language": "python",
   "name": "python3"
  },
  "language_info": {
   "codemirror_mode": {
    "name": "ipython",
    "version": 3
   },
   "file_extension": ".py",
   "mimetype": "text/x-python",
   "name": "python",
   "nbconvert_exporter": "python",
   "pygments_lexer": "ipython3",
   "version": "3.12.0"
  }
 },
 "nbformat": 4,
 "nbformat_minor": 2
}
