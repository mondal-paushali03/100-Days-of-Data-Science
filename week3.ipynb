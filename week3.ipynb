{
 "cells": [
  {
   "cell_type": "markdown",
   "metadata": {},
   "source": [
    "## **WEEK 3: DATASET MANIPULATION USING PYTHON**"
   ]
  },
  {
   "cell_type": "markdown",
   "metadata": {},
   "source": [
    "### **Day 1: Introduction to Pandas and Creating Datasets using Series**"
   ]
  },
  {
   "cell_type": "code",
   "execution_count": 5,
   "metadata": {},
   "outputs": [
    {
     "name": "stdout",
     "output_type": "stream",
     "text": [
      "Fruits Series:\n",
      "0     Apple\n",
      "1    Banana\n",
      "2     Mango\n",
      "3    Grapes\n",
      "dtype: object\n",
      "\n",
      "Prices Series:\n",
      "0    100\n",
      "1     40\n",
      "2     60\n",
      "3     80\n",
      "dtype: int64\n",
      "\n",
      "First fruit: Apple\n",
      "Last price: 80\n",
      "\n",
      "Total cost of all fruits: 280\n",
      "Average price of fruits: 70.0\n",
      "\n",
      "Fruit DataFrame:\n",
      "    Fruit  Price\n",
      "0   Apple    100\n",
      "1  Banana     40\n",
      "2   Mango     60\n",
      "3  Grapes     80\n",
      "\n",
      "DataFrame after adding Quantity column:\n",
      "    Fruit  Price  Quantity\n",
      "0   Apple    100        10\n",
      "1  Banana     40        20\n",
      "2   Mango     60        15\n",
      "3  Grapes     80        30\n"
     ]
    }
   ],
   "source": [
    "import pandas as pd\n",
    "\n",
    "fruits = pd.Series(['Apple', 'Banana', 'Mango', 'Grapes'])\n",
    "prices = pd.Series([100, 40, 60, 80])\n",
    "\n",
    "\n",
    "print(\"Fruits Series:\")\n",
    "print(fruits)\n",
    "print(\"\\nPrices Series:\")\n",
    "print(prices)\n",
    "\n",
    "print(\"\\nFirst fruit:\", fruits[0])\n",
    "print(\"Last price:\", prices.iloc[-1])\n",
    "\n",
    "print(\"\\nTotal cost of all fruits:\", prices.sum())\n",
    "print(\"Average price of fruits:\", prices.mean())\n",
    "\n",
    "fruit_df = pd.DataFrame({'Fruit': fruits, 'Price': prices})\n",
    "print(\"\\nFruit DataFrame:\")\n",
    "print(fruit_df)\n",
    "\n",
    "fruit_df['Quantity'] = [10, 20, 15, 30]\n",
    "print(\"\\nDataFrame after adding Quantity column:\")\n",
    "print(fruit_df)"
   ]
  },
  {
   "cell_type": "markdown",
   "metadata": {},
   "source": [
    "### **Day 2: Creating DataFrames Manually and Using Dictionaries**"
   ]
  },
  {
   "cell_type": "code",
   "execution_count": 2,
   "metadata": {},
   "outputs": [
    {
     "name": "stdout",
     "output_type": "stream",
     "text": [
      "Initial DataFrame:\n",
      "      Name  Age  Score\n",
      "0    Alice   23     85\n",
      "1      Bob   24     90\n",
      "2  Charlie   22     88\n",
      "3    David   25     92\n",
      "4      Eva   26     95\n",
      "\n",
      "DataFrame Shape: (5, 3)\n",
      "Column Names: Index(['Name', 'Age', 'Score'], dtype='object')\n",
      "DataFrame Info:\n",
      "<class 'pandas.core.frame.DataFrame'>\n",
      "RangeIndex: 5 entries, 0 to 4\n",
      "Data columns (total 3 columns):\n",
      " #   Column  Non-Null Count  Dtype \n",
      "---  ------  --------------  ----- \n",
      " 0   Name    5 non-null      object\n",
      " 1   Age     5 non-null      int64 \n",
      " 2   Score   5 non-null      int64 \n",
      "dtypes: int64(2), object(1)\n",
      "memory usage: 252.0+ bytes\n",
      "None\n",
      "\n",
      "Summary Statistics:\n",
      "             Age      Score\n",
      "count   5.000000   5.000000\n",
      "mean   24.000000  90.000000\n",
      "std     1.581139   3.807887\n",
      "min    22.000000  85.000000\n",
      "25%    23.000000  88.000000\n",
      "50%    24.000000  90.000000\n",
      "75%    25.000000  92.000000\n",
      "max    26.000000  95.000000\n",
      "\n",
      "DataFrame after adding 'Passed' column:\n",
      "      Name  Age  Score  Passed\n",
      "0    Alice   23     85   False\n",
      "1      Bob   24     90    True\n",
      "2  Charlie   22     88    True\n",
      "3    David   25     92    True\n",
      "4      Eva   26     95    True\n",
      "\n",
      "DataFrame after renaming 'Score' to 'Marks':\n",
      "      Name  Age  Marks  Passed\n",
      "0    Alice   23     85   False\n",
      "1      Bob   24     90    True\n",
      "2  Charlie   22     88    True\n",
      "3    David   25     92    True\n",
      "4      Eva   26     95    True\n",
      "\n",
      "DataFrame after removing 'Passed' column:\n",
      "      Name  Age  Marks\n",
      "0    Alice   23     85\n",
      "1      Bob   24     90\n",
      "2  Charlie   22     88\n",
      "3    David   25     92\n",
      "4      Eva   26     95\n"
     ]
    }
   ],
   "source": [
    "# Creating a DataFrame using a dictionary\n",
    "data = {\n",
    "    'Name': ['Alice', 'Bob', 'Charlie', 'David', 'Eva'],\n",
    "    'Age': [23, 24, 22, 25, 26],\n",
    "    'Score': [85, 90, 88, 92, 95]\n",
    "}\n",
    "df = pd.DataFrame(data)\n",
    "\n",
    "# Displaying the DataFrame\n",
    "print(\"Initial DataFrame:\")\n",
    "print(df)\n",
    "\n",
    "# Checking the DataFrame structure\n",
    "print(\"\\nDataFrame Shape:\", df.shape)\n",
    "print(\"Column Names:\", df.columns)\n",
    "print(\"DataFrame Info:\")\n",
    "print(df.info())\n",
    "print(\"\\nSummary Statistics:\")\n",
    "print(df.describe())\n",
    "\n",
    "# Adding a new column\n",
    "df['Passed'] = df['Score'] > 85\n",
    "print(\"\\nDataFrame after adding 'Passed' column:\")\n",
    "print(df)\n",
    "\n",
    "# Renaming a column\n",
    "df.rename(columns={'Score': 'Marks'}, inplace=True)\n",
    "print(\"\\nDataFrame after renaming 'Score' to 'Marks':\")\n",
    "print(df)\n",
    "\n",
    "# Removing a column\n",
    "df.drop(columns=['Passed'], inplace=True)\n",
    "print(\"\\nDataFrame after removing 'Passed' column:\")\n",
    "print(df)"
   ]
  },
  {
   "cell_type": "markdown",
   "metadata": {},
   "source": [
    "### **Day 3: Indexing, Slicing, and Conditional Selection**"
   ]
  },
  {
   "cell_type": "code",
   "execution_count": 3,
   "metadata": {},
   "outputs": [
    {
     "name": "stdout",
     "output_type": "stream",
     "text": [
      "Using .loc[] to select rows:\n",
      "      Name  Age  Score\n",
      "0    Alice   25     85\n",
      "1      Bob   30     92\n",
      "2  Charlie   22     88\n",
      "\n",
      "Using .iloc[] to select rows:\n",
      "      Name  Age  Score\n",
      "1      Bob   30     92\n",
      "2  Charlie   22     88\n",
      "3    David   35     79\n",
      "\n",
      "Students with Score > 90:\n",
      "  Name  Age  Score\n",
      "1  Bob   30     92\n",
      "4  Eva   28     95\n",
      "\n",
      "DataFrame after setting 'Name' as the index:\n",
      "         Age  Score\n",
      "Name               \n",
      "Alice     25     85\n",
      "Bob       30     92\n",
      "Charlie   22     88\n",
      "David     35     79\n",
      "Eva       28     95\n",
      "\n",
      "DataFrame after resetting the index:\n",
      "      Name  Age  Score\n",
      "0    Alice   25     85\n",
      "1      Bob   30     92\n",
      "2  Charlie   22     88\n",
      "3    David   35     79\n",
      "4      Eva   28     95\n"
     ]
    }
   ],
   "source": [
    "# Sample DataFrame\n",
    "data = {\n",
    "    'Name': ['Alice', 'Bob', 'Charlie', 'David', 'Eva'],\n",
    "    'Age': [25, 30, 22, 35, 28],\n",
    "    'Score': [85, 92, 88, 79, 95]\n",
    "}\n",
    "df = pd.DataFrame(data)\n",
    "\n",
    "# Selecting data using .loc[] (label-based)\n",
    "print(\"Using .loc[] to select rows:\")\n",
    "print(df.loc[0:2])  # Selecting rows with labels 0 to 2 (inclusive)\n",
    "\n",
    "# Selecting data using .iloc[] (integer position-based)\n",
    "print(\"\\nUsing .iloc[] to select rows:\")\n",
    "print(df.iloc[1:4])  # Selecting rows with indices 1 to 3 (exclusive)\n",
    "\n",
    "# Conditional selection using Boolean indexing\n",
    "print(\"\\nStudents with Score > 90:\")\n",
    "print(df[df['Score'] > 90])\n",
    "\n",
    "# Setting 'Name' column as the index\n",
    "df.set_index('Name', inplace=True)\n",
    "print(\"\\nDataFrame after setting 'Name' as the index:\")\n",
    "print(df)\n",
    "\n",
    "# Resetting the index\n",
    "df.reset_index(inplace=True)\n",
    "print(\"\\nDataFrame after resetting the index:\")\n",
    "print(df)"
   ]
  },
  {
   "cell_type": "markdown",
   "metadata": {},
   "source": [
    "### **Day 4: Advanced DataFrame Operations (Sorting, Filtering, Aggregation)**"
   ]
  },
  {
   "cell_type": "code",
   "execution_count": 4,
   "metadata": {},
   "outputs": [
    {
     "name": "stdout",
     "output_type": "stream",
     "text": [
      "DataFrame sorted by Age:\n",
      "      Name  Age  Score Department\n",
      "2  Charlie   22     88       Math\n",
      "0    Alice   25     85       Math\n",
      "4      Eva   28     95    Science\n",
      "1      Bob   30     92    Science\n",
      "3    David   35     79       Arts\n",
      "\n",
      "Students with Score > 90 using .query():\n",
      "  Name  Age  Score Department\n",
      "1  Bob   30     92    Science\n",
      "4  Eva   28     95    Science\n",
      "\n",
      "Average Score by Department:\n",
      "Department\n",
      "Arts       79.0\n",
      "Math       86.5\n",
      "Science    93.5\n",
      "Name: Score, dtype: float64\n",
      "\n",
      "Aggregated statistics by Department:\n",
      "           Score     Age\n",
      "            mean max min\n",
      "Department              \n",
      "Arts        79.0  79  35\n",
      "Math        86.5  88  22\n",
      "Science     93.5  95  28\n"
     ]
    }
   ],
   "source": [
    "# Sample DataFrame\n",
    "data = {\n",
    "    'Name': ['Alice', 'Bob', 'Charlie', 'David', 'Eva'],\n",
    "    'Age': [25, 30, 22, 35, 28],\n",
    "    'Score': [85, 92, 88, 79, 95],\n",
    "    'Department': ['Math', 'Science', 'Math', 'Arts', 'Science']\n",
    "}\n",
    "df = pd.DataFrame(data)\n",
    "\n",
    "# Sorting the DataFrame by Age\n",
    "sorted_df = df.sort_values(by='Age', ascending=True)\n",
    "print(\"DataFrame sorted by Age:\")\n",
    "print(sorted_df)\n",
    "\n",
    "# Filtering data using .query()\n",
    "high_score_students = df.query('Score > 90')\n",
    "print(\"\\nStudents with Score > 90 using .query():\")\n",
    "print(high_score_students)\n",
    "\n",
    "# Grouping data by Department and calculating average Score\n",
    "avg_score_by_dept = df.groupby('Department')['Score'].mean()\n",
    "print(\"\\nAverage Score by Department:\")\n",
    "print(avg_score_by_dept)\n",
    "\n",
    "# Aggregating multiple statistics\n",
    "agg_stats = df.groupby('Department').agg({'Score': ['mean', 'max'], 'Age': 'min'})\n",
    "print(\"\\nAggregated statistics by Department:\")\n",
    "print(agg_stats)\n"
   ]
  },
  {
   "cell_type": "markdown",
   "metadata": {},
   "source": [
    "### **Day 5-7: Movie Rating Prediction (Reading Data, Handling Imbalances)**"
   ]
  },
  {
   "cell_type": "code",
   "execution_count": null,
   "metadata": {},
   "outputs": [],
   "source": [
    "df=pd.read_csv(\"IMDb Movies India.csv\", encoding='latin-1')"
   ]
  },
  {
   "cell_type": "markdown",
   "metadata": {},
   "source": [
    "+ MISSING VALUES' HEATMAP"
   ]
  },
  {
   "cell_type": "code",
   "execution_count": null,
   "metadata": {},
   "outputs": [
    {
     "data": {
      "text/plain": [
       "<Axes: >"
      ]
     },
     "metadata": {},
     "output_type": "display_data"
    },
    {
     "data": {
      "image/png": "[encoded data removed]",
      "text/plain": [
       "<Figure size 640x480 with 2 Axes>"
      ]
     },
     "metadata": {},
     "output_type": "display_data"
    }
   ],
   "source": [
    "import seaborn as sns\n",
    "sns.heatmap(df.isnull())"
   ]
  },
  {
   "cell_type": "code",
   "execution_count": null,
   "metadata": {},
   "outputs": [
    {
     "data": {
      "text/html": [
       "<div>\n",
       "<style scoped>\n",
       "    .dataframe tbody tr th:only-of-type {\n",
       "        vertical-align: middle;\n",
       "    }\n",
       "\n",
       "    .dataframe tbody tr th {\n",
       "        vertical-align: top;\n",
       "    }\n",
       "\n",
       "    .dataframe thead th {\n",
       "        text-align: right;\n",
       "    }\n",
       "</style>\n",
       "<table border=\"1\" class=\"dataframe\">\n",
       "  <thead>\n",
       "    <tr style=\"text-align: right;\">\n",
       "      <th></th>\n",
       "      <th>Name</th>\n",
       "      <th>Year</th>\n",
       "      <th>Duration</th>\n",
       "      <th>Genre</th>\n",
       "      <th>Rating</th>\n",
       "      <th>Votes</th>\n",
       "      <th>Director</th>\n",
       "      <th>Actor 1</th>\n",
       "      <th>Actor 2</th>\n",
       "      <th>Actor 3</th>\n",
       "    </tr>\n",
       "  </thead>\n",
       "  <tbody>\n",
       "    <tr>\n",
       "      <th>0</th>\n",
       "      <td></td>\n",
       "      <td>NaN</td>\n",
       "      <td>NaN</td>\n",
       "      <td>Drama</td>\n",
       "      <td>NaN</td>\n",
       "      <td>NaN</td>\n",
       "      <td>J.S. Randhawa</td>\n",
       "      <td>Manmauji</td>\n",
       "      <td>Birbal</td>\n",
       "      <td>Rajendra Bhatia</td>\n",
       "    </tr>\n",
       "    <tr>\n",
       "      <th>1</th>\n",
       "      <td>#Gadhvi (He thought he was Gandhi)</td>\n",
       "      <td>(2019)</td>\n",
       "      <td>109 min</td>\n",
       "      <td>Drama</td>\n",
       "      <td>7.0</td>\n",
       "      <td>8</td>\n",
       "      <td>Gaurav Bakshi</td>\n",
       "      <td>Rasika Dugal</td>\n",
       "      <td>Vivek Ghamande</td>\n",
       "      <td>Arvind Jangid</td>\n",
       "    </tr>\n",
       "    <tr>\n",
       "      <th>2</th>\n",
       "      <td>#Homecoming</td>\n",
       "      <td>(2021)</td>\n",
       "      <td>90 min</td>\n",
       "      <td>Drama, Musical</td>\n",
       "      <td>NaN</td>\n",
       "      <td>NaN</td>\n",
       "      <td>Soumyajit Majumdar</td>\n",
       "      <td>Sayani Gupta</td>\n",
       "      <td>Plabita Borthakur</td>\n",
       "      <td>Roy Angana</td>\n",
       "    </tr>\n",
       "    <tr>\n",
       "      <th>3</th>\n",
       "      <td>#Yaaram</td>\n",
       "      <td>(2019)</td>\n",
       "      <td>110 min</td>\n",
       "      <td>Comedy, Romance</td>\n",
       "      <td>4.4</td>\n",
       "      <td>35</td>\n",
       "      <td>Ovais Khan</td>\n",
       "      <td>Prateik</td>\n",
       "      <td>Ishita Raj</td>\n",
       "      <td>Siddhant Kapoor</td>\n",
       "    </tr>\n",
       "    <tr>\n",
       "      <th>4</th>\n",
       "      <td>...And Once Again</td>\n",
       "      <td>(2010)</td>\n",
       "      <td>105 min</td>\n",
       "      <td>Drama</td>\n",
       "      <td>NaN</td>\n",
       "      <td>NaN</td>\n",
       "      <td>Amol Palekar</td>\n",
       "      <td>Rajat Kapoor</td>\n",
       "      <td>Rituparna Sengupta</td>\n",
       "      <td>Antara Mali</td>\n",
       "    </tr>\n",
       "    <tr>\n",
       "      <th>5</th>\n",
       "      <td>...Aur Pyaar Ho Gaya</td>\n",
       "      <td>(1997)</td>\n",
       "      <td>147 min</td>\n",
       "      <td>Comedy, Drama, Musical</td>\n",
       "      <td>4.7</td>\n",
       "      <td>827</td>\n",
       "      <td>Rahul Rawail</td>\n",
       "      <td>Bobby Deol</td>\n",
       "      <td>Aishwarya Rai Bachchan</td>\n",
       "      <td>Shammi Kapoor</td>\n",
       "    </tr>\n",
       "    <tr>\n",
       "      <th>6</th>\n",
       "      <td>...Yahaan</td>\n",
       "      <td>(2005)</td>\n",
       "      <td>142 min</td>\n",
       "      <td>Drama, Romance, War</td>\n",
       "      <td>7.4</td>\n",
       "      <td>1,086</td>\n",
       "      <td>Shoojit Sircar</td>\n",
       "      <td>Jimmy Sheirgill</td>\n",
       "      <td>Minissha Lamba</td>\n",
       "      <td>Yashpal Sharma</td>\n",
       "    </tr>\n",
       "    <tr>\n",
       "      <th>7</th>\n",
       "      <td>.in for Motion</td>\n",
       "      <td>(2008)</td>\n",
       "      <td>59 min</td>\n",
       "      <td>Documentary</td>\n",
       "      <td>NaN</td>\n",
       "      <td>NaN</td>\n",
       "      <td>Anirban Datta</td>\n",
       "      <td>NaN</td>\n",
       "      <td>NaN</td>\n",
       "      <td>NaN</td>\n",
       "    </tr>\n",
       "    <tr>\n",
       "      <th>8</th>\n",
       "      <td>?: A Question Mark</td>\n",
       "      <td>(2012)</td>\n",
       "      <td>82 min</td>\n",
       "      <td>Horror, Mystery, Thriller</td>\n",
       "      <td>5.6</td>\n",
       "      <td>326</td>\n",
       "      <td>Allyson Patel</td>\n",
       "      <td>Yash Dave</td>\n",
       "      <td>Muntazir Ahmad</td>\n",
       "      <td>Kiran Bhatia</td>\n",
       "    </tr>\n",
       "    <tr>\n",
       "      <th>9</th>\n",
       "      <td>@Andheri</td>\n",
       "      <td>(2014)</td>\n",
       "      <td>116 min</td>\n",
       "      <td>Action, Crime, Thriller</td>\n",
       "      <td>4.0</td>\n",
       "      <td>11</td>\n",
       "      <td>Biju Bhaskar Nair</td>\n",
       "      <td>Augustine</td>\n",
       "      <td>Fathima Babu</td>\n",
       "      <td>Byon</td>\n",
       "    </tr>\n",
       "  </tbody>\n",
       "</table>\n",
       "</div>"
      ],
      "text/plain": [
       "                                 Name    Year Duration  \\\n",
       "0                                         NaN      NaN   \n",
       "1  #Gadhvi (He thought he was Gandhi)  (2019)  109 min   \n",
       "2                         #Homecoming  (2021)   90 min   \n",
       "3                             #Yaaram  (2019)  110 min   \n",
       "4                   ...And Once Again  (2010)  105 min   \n",
       "5                ...Aur Pyaar Ho Gaya  (1997)  147 min   \n",
       "6                           ...Yahaan  (2005)  142 min   \n",
       "7                      .in for Motion  (2008)   59 min   \n",
       "8                  ?: A Question Mark  (2012)   82 min   \n",
       "9                            @Andheri  (2014)  116 min   \n",
       "\n",
       "                       Genre  Rating  Votes            Director  \\\n",
       "0                      Drama     NaN    NaN       J.S. Randhawa   \n",
       "1                      Drama     7.0      8       Gaurav Bakshi   \n",
       "2             Drama, Musical     NaN    NaN  Soumyajit Majumdar   \n",
       "3            Comedy, Romance     4.4     35          Ovais Khan   \n",
       "4                      Drama     NaN    NaN        Amol Palekar   \n",
       "5     Comedy, Drama, Musical     4.7    827        Rahul Rawail   \n",
       "6        Drama, Romance, War     7.4  1,086      Shoojit Sircar   \n",
       "7                Documentary     NaN    NaN       Anirban Datta   \n",
       "8  Horror, Mystery, Thriller     5.6    326       Allyson Patel   \n",
       "9    Action, Crime, Thriller     4.0     11   Biju Bhaskar Nair   \n",
       "\n",
       "           Actor 1                 Actor 2          Actor 3  \n",
       "0         Manmauji                  Birbal  Rajendra Bhatia  \n",
       "1     Rasika Dugal          Vivek Ghamande    Arvind Jangid  \n",
       "2     Sayani Gupta       Plabita Borthakur       Roy Angana  \n",
       "3          Prateik              Ishita Raj  Siddhant Kapoor  \n",
       "4     Rajat Kapoor      Rituparna Sengupta      Antara Mali  \n",
       "5       Bobby Deol  Aishwarya Rai Bachchan    Shammi Kapoor  \n",
       "6  Jimmy Sheirgill          Minissha Lamba   Yashpal Sharma  \n",
       "7              NaN                     NaN              NaN  \n",
       "8        Yash Dave          Muntazir Ahmad     Kiran Bhatia  \n",
       "9        Augustine            Fathima Babu             Byon  "
      ]
     },
     "metadata": {},
     "output_type": "display_data"
    }
   ],
   "source": [
    "df.head(10)"
   ]
  },
  {
   "cell_type": "markdown",
   "metadata": {},
   "source": [
    "### **HANDLING IMBALANCES**"
   ]
  },
  {
   "cell_type": "code",
   "execution_count": null,
   "metadata": {},
   "outputs": [
    {
     "data": {
      "text/plain": [
       "<bound method IndexOpsMixin.value_counts of 0                                          \n",
       "1        #Gadhvi (He thought he was Gandhi)\n",
       "2                               #Homecoming\n",
       "3                                   #Yaaram\n",
       "4                         ...And Once Again\n",
       "                        ...                \n",
       "15504                   Zulm Ko Jala Doonga\n",
       "15505                                 Zulmi\n",
       "15506                             Zulmi Raj\n",
       "15507                         Zulmi Shikari\n",
       "15508                          Zulm-O-Sitam\n",
       "Name: Name, Length: 15503, dtype: object>"
      ]
     },
     "metadata": {},
     "output_type": "display_data"
    }
   ],
   "source": [
    "df['Name'].value_counts"
   ]
  },
  {
   "cell_type": "markdown",
   "metadata": {},
   "source": [
    "+ 'DURATION' COLUMN"
   ]
  },
  {
   "cell_type": "code",
   "execution_count": null,
   "metadata": {},
   "outputs": [],
   "source": [
    "df['Duration']= df['Duration'].str.replace('min','').apply(pd.to_numeric)"
   ]
  },
  {
   "cell_type": "code",
   "execution_count": null,
   "metadata": {},
   "outputs": [
    {
     "data": {
      "text/plain": [
       "0"
      ]
     },
     "metadata": {},
     "output_type": "display_data"
    }
   ],
   "source": [
    "x=df['Duration'].mean()\n",
    "df['Duration'].fillna(value=x, inplace=True)\n",
    "df['Duration'].isnull().sum()"
   ]
  },
  {
   "cell_type": "code",
   "execution_count": null,
   "metadata": {},
   "outputs": [
    {
     "data": {
      "text/plain": [
       "dtype('float64')"
      ]
     },
     "metadata": {},
     "output_type": "display_data"
    }
   ],
   "source": [
    "df['Duration'].dtypes"
   ]
  },
  {
   "cell_type": "markdown",
   "metadata": {},
   "source": [
    "+ 'RATING' COLUMN"
   ]
  },
  {
   "cell_type": "code",
   "execution_count": null,
   "metadata": {},
   "outputs": [
    {
     "data": {
      "text/plain": [
       "7584"
      ]
     },
     "metadata": {},
     "output_type": "display_data"
    }
   ],
   "source": [
    "df['Rating'].isnull().sum()"
   ]
  },
  {
   "cell_type": "code",
   "execution_count": null,
   "metadata": {},
   "outputs": [],
   "source": [
    "x=df['Rating'].median()\n",
    "df['Rating'].fillna(value=x, inplace=True)"
   ]
  },
  {
   "cell_type": "markdown",
   "metadata": {},
   "source": [
    "+ 'VOTES' COLUMN"
   ]
  },
  {
   "cell_type": "code",
   "execution_count": null,
   "metadata": {},
   "outputs": [],
   "source": [
    "df['Votes'] = df['Votes'].replace(\"$5.16M\", 516)\n",
    "df['Votes'] = df['Votes'].astype(str)\n",
    "df['Votes'] = df['Votes'].str.replace(',', '').astype('float64')"
   ]
  },
  {
   "cell_type": "code",
   "execution_count": null,
   "metadata": {},
   "outputs": [
    {
     "data": {
      "text/plain": [
       "0"
      ]
     },
     "metadata": {},
     "output_type": "display_data"
    }
   ],
   "source": [
    "x=df['Votes'].median()\n",
    "df['Votes'].fillna(value=x, inplace=True)\n",
    "df['Votes'].isnull().sum()\n"
   ]
  },
  {
   "cell_type": "markdown",
   "metadata": {},
   "source": [
    "+ 'YEAR' COLUMN"
   ]
  },
  {
   "cell_type": "code",
   "execution_count": null,
   "metadata": {},
   "outputs": [],
   "source": [
    "df['Year'].isnull().any()\n",
    "df['Year'] = df['Year'].str.strip('()').astype('float64')"
   ]
  },
  {
   "cell_type": "code",
   "execution_count": null,
   "metadata": {},
   "outputs": [],
   "source": [
    "df.dropna(subset=['Year','Genre','Director','Actor 1','Actor 2','Actor 3'], inplace=True)"
   ]
  }
 ],
 "metadata": {
  "kernelspec": {
   "display_name": "Python 3",
   "language": "python",
   "name": "python3"
  },
  "language_info": {
   "codemirror_mode": {
    "name": "ipython",
    "version": 3
   },
   "file_extension": ".py",
   "mimetype": "text/x-python",
   "name": "python",
   "nbconvert_exporter": "python",
   "pygments_lexer": "ipython3",
   "version": "3.12.0"
  }
 },
 "nbformat": 4,
 "nbformat_minor": 2
}
